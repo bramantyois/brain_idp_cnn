{
 "cells": [
  {
   "cell_type": "code",
   "execution_count": 14,
   "metadata": {},
   "outputs": [],
   "source": [
    "from tensorflow.keras.applications.vgg16 import VGG16\n",
    "from rfa_toolbox import create_graph_from_tensorflow_model, visualize_architecture\n",
    "from rfa_toolbox.graphs import EnrichedNetworkNode\n",
    "from model.sfcn import SFCN"
   ]
  },
  {
   "cell_type": "code",
   "execution_count": 15,
   "metadata": {},
   "outputs": [],
   "source": [
    "batch_size = 8\n",
    "gpu_list =  [4,5,6,7]\n",
    "cpu_workers = 8\n",
    "epochs_num = 64"
   ]
  },
  {
   "cell_type": "code",
   "execution_count": 16,
   "metadata": {},
   "outputs": [
    {
     "name": "stdout",
     "output_type": "stream",
     "text": [
      "WARNING:tensorflow:Collective ops is not configured at program startup. Some performance features may not be enabled.\n",
      "INFO:tensorflow:Using MirroredStrategy with devices ('/job:localhost/replica:0/task:0/device:GPU:0', '/job:localhost/replica:0/task:0/device:GPU:1', '/job:localhost/replica:0/task:0/device:GPU:2', '/job:localhost/replica:0/task:0/device:GPU:3')\n",
      "Model: \"SFCN\"\n",
      "_________________________________________________________________\n",
      "Layer (type)                 Output Shape              Param #   \n",
      "=================================================================\n",
      "input (InputLayer)           [(None, 160, 192, 160, 1) 0         \n",
      "_________________________________________________________________\n",
      "conv_0 (Conv3D)              (None, 160, 192, 160, 32) 896       \n",
      "_________________________________________________________________\n",
      "batchnorm_0 (BatchNormalizat (None, 160, 192, 160, 32) 128       \n",
      "_________________________________________________________________\n",
      "maxpool_0 (MaxPooling3D)     (None, 80, 96, 80, 32)    0         \n",
      "_________________________________________________________________\n",
      "activation_0 (Activation)    (None, 80, 96, 80, 32)    0         \n",
      "_________________________________________________________________\n",
      "conv_1 (Conv3D)              (None, 80, 96, 80, 64)    55360     \n",
      "_________________________________________________________________\n",
      "batchnorm_1 (BatchNormalizat (None, 80, 96, 80, 64)    256       \n",
      "_________________________________________________________________\n",
      "maxpool_1 (MaxPooling3D)     (None, 40, 48, 40, 64)    0         \n",
      "_________________________________________________________________\n",
      "activation_1 (Activation)    (None, 40, 48, 40, 64)    0         \n",
      "_________________________________________________________________\n",
      "conv_2 (Conv3D)              (None, 40, 48, 40, 64)    110656    \n",
      "_________________________________________________________________\n",
      "batchnorm_2 (BatchNormalizat (None, 40, 48, 40, 64)    256       \n",
      "_________________________________________________________________\n",
      "maxpool_2 (MaxPooling3D)     (None, 20, 24, 20, 64)    0         \n",
      "_________________________________________________________________\n",
      "activation_2 (Activation)    (None, 20, 24, 20, 64)    0         \n",
      "_________________________________________________________________\n",
      "conv_3 (Conv3D)              (None, 20, 24, 20, 128)   221312    \n",
      "_________________________________________________________________\n",
      "batchnorm_3 (BatchNormalizat (None, 20, 24, 20, 128)   512       \n",
      "_________________________________________________________________\n",
      "maxpool_3 (MaxPooling3D)     (None, 10, 12, 10, 128)   0         \n",
      "_________________________________________________________________\n",
      "activation_3 (Activation)    (None, 10, 12, 10, 128)   0         \n",
      "_________________________________________________________________\n",
      "conv_4 (Conv3D)              (None, 10, 12, 10, 256)   884992    \n",
      "_________________________________________________________________\n",
      "batchnorm_4 (BatchNormalizat (None, 10, 12, 10, 256)   1024      \n",
      "_________________________________________________________________\n",
      "maxpool_4 (MaxPooling3D)     (None, 5, 6, 5, 256)      0         \n",
      "_________________________________________________________________\n",
      "activation_4 (Activation)    (None, 5, 6, 5, 256)      0         \n",
      "_________________________________________________________________\n",
      "conv_5 (Conv3D)              (None, 5, 6, 5, 256)      1769728   \n",
      "_________________________________________________________________\n",
      "batchnorm_5 (BatchNormalizat (None, 5, 6, 5, 256)      1024      \n",
      "_________________________________________________________________\n",
      "activation_5 (Activation)    (None, 5, 6, 5, 256)      0         \n",
      "_________________________________________________________________\n",
      "avgpool_6 (AveragePooling3D) (None, 1, 1, 1, 256)      0         \n",
      "_________________________________________________________________\n",
      "conv_6 (Conv3D)              (None, 1, 1, 1, 1429)     367253    \n",
      "_________________________________________________________________\n",
      "flatten_6 (Flatten)          (None, 1429)              0         \n",
      "=================================================================\n",
      "Total params: 3,413,397\n",
      "Trainable params: 3,411,797\n",
      "Non-trainable params: 1,600\n",
      "_________________________________________________________________\n"
     ]
    }
   ],
   "source": [
    "model = SFCN(\n",
    "        input_dim=[160, 192, 160, 1], \n",
    "        output_dim=1429,\n",
    "        conv_num_filters=[32, 64, 64, 128, 256, 256], \n",
    "        conv_kernel_sizes=[3, 3, 3, 3, 3, 1], \n",
    "        conv_strides=[1, 1, 1, 1, 1, 1],\n",
    "        conv_padding=['same', 'same', 'same', 'same', 'same', 'valid'],\n",
    "        pooling_size=[2, 2, 2, 2, 2],\n",
    "        pooling_type=['max_pool', 'max_pool', 'max_pool', 'max_pool', 'max_pool'],\n",
    "        normalization='batch',\n",
    "        dropout=False,\n",
    "        #dropout_rate=0.5,\n",
    "        softmax=False,\n",
    "        use_float16=False,\n",
    "        reduce_lr_on_plateau=0.5,\n",
    "        batch_size=batch_size, \n",
    "        early_stopping=8,\n",
    "        gpu_list = gpu_list)"
   ]
  },
  {
   "cell_type": "code",
   "execution_count": 9,
   "metadata": {},
   "outputs": [],
   "source": [
    "graph: EnrichedNetworkNode = create_graph_from_tensorflow_model(model.model)"
   ]
  },
  {
   "cell_type": "code",
   "execution_count": 10,
   "metadata": {},
   "outputs": [
    {
     "data": {
      "text/plain": [
       "'.gv.pdf'"
      ]
     },
     "execution_count": 10,
     "metadata": {},
     "output_type": "execute_result"
    },
    {
     "name": "stderr",
     "output_type": "stream",
     "text": [
      "Error: no \"view\" rule for type \"application/pdf\" passed its test case\n",
      "       (for more information, add \"--debug=1\" on the command line)\n"
     ]
    }
   ],
   "source": [
    "visualize_architecture(graph, \"sfcn_test\").view()"
   ]
  },
  {
   "cell_type": "code",
   "execution_count": null,
   "metadata": {},
   "outputs": [],
   "source": []
  }
 ],
 "metadata": {
  "interpreter": {
   "hash": "c8ec36db1c37891e19af6e84f28c06bf52dc46e019d31b59d6c640044a227346"
  },
  "kernelspec": {
   "display_name": "Python 3.8.12 ('tf25')",
   "language": "python",
   "name": "python3"
  },
  "language_info": {
   "codemirror_mode": {
    "name": "ipython",
    "version": 3
   },
   "file_extension": ".py",
   "mimetype": "text/x-python",
   "name": "python",
   "nbconvert_exporter": "python",
   "pygments_lexer": "ipython3",
   "version": "3.8.12"
  },
  "orig_nbformat": 4
 },
 "nbformat": 4,
 "nbformat_minor": 2
}
