{
 "cells": [
  {
   "cell_type": "code",
   "execution_count": 1,
   "metadata": {},
   "outputs": [],
   "source": [
    "import torch\n",
    "import torch.nn as nn\n",
    "import torch.nn.functional as F\n",
    "from torchsummary import summary "
   ]
  },
  {
   "cell_type": "code",
   "execution_count": 2,
   "metadata": {},
   "outputs": [],
   "source": [
    "\n",
    "class SFCN(nn.Module):\n",
    "    def __init__(\n",
    "        self, channel_number=[32, 64, 128, 256, 256, 64], output_dim=1, dropout_prob=None\n",
    "    ):\n",
    "        super().__init__()\n",
    "        n_layer = len(channel_number)\n",
    "        self.feature_extractor = nn.Sequential()\n",
    "        for i in range(n_layer):\n",
    "            if i == 0:\n",
    "                in_channel = 1\n",
    "            else:\n",
    "                in_channel = channel_number[i - 1]\n",
    "            out_channel = channel_number[i]\n",
    "            if i < n_layer - 1:\n",
    "                self.feature_extractor.add_module(\n",
    "                    \"conv_%d\" % i,\n",
    "                    self.conv_layer(\n",
    "                        in_channel, out_channel, maxpool=True, kernel_size=3, padding=1\n",
    "                    ),\n",
    "                )\n",
    "            else:\n",
    "                self.feature_extractor.add_module(\n",
    "                    \"conv_%d\" % i,\n",
    "                    self.conv_layer(\n",
    "                        in_channel, out_channel, maxpool=False, kernel_size=1, padding=0\n",
    "                    ),\n",
    "                )\n",
    "        self.classifier = nn.Sequential()\n",
    "        self.classifier.add_module(\"average_pool\", nn.AvgPool3d([5, 6, 5]))\n",
    "        if dropout_prob is not None:\n",
    "            self.classifier.add_module(\"dropout\", nn.Dropout(dropout_prob))\n",
    "        self.classifier.add_module(\n",
    "            \"conv_%d\" % n_layer,\n",
    "            nn.Conv3d(channel_number[-1], output_dim, padding=0, kernel_size=1),\n",
    "        )\n",
    "\n",
    "    @staticmethod\n",
    "    def conv_layer(\n",
    "        in_channel,\n",
    "        out_channel,\n",
    "        maxpool=True,\n",
    "        kernel_size=3,\n",
    "        padding=0,\n",
    "        maxpool_stride=2,\n",
    "    ):\n",
    "        if maxpool is True:\n",
    "            layer = nn.Sequential(\n",
    "                nn.Conv3d(\n",
    "                    in_channel, out_channel, padding=padding, kernel_size=kernel_size\n",
    "                ),\n",
    "                nn.BatchNorm3d(out_channel),\n",
    "                nn.MaxPool3d(2, stride=maxpool_stride),\n",
    "                nn.ReLU(),\n",
    "            )\n",
    "        else:\n",
    "            layer = nn.Sequential(\n",
    "                nn.Conv3d(\n",
    "                    in_channel, out_channel, padding=padding, kernel_size=kernel_size\n",
    "                ),\n",
    "                nn.BatchNorm3d(out_channel),\n",
    "                nn.ReLU(),\n",
    "            )\n",
    "        return layer\n",
    "\n",
    "    def forward(self, x):\n",
    "        x_f = self.feature_extractor(x)\n",
    "        return self.classifier(x_f).flatten(start_dim=1)\n"
   ]
  },
  {
   "cell_type": "code",
   "execution_count": 3,
   "metadata": {},
   "outputs": [],
   "source": [
    "model = SFCN(output_dim=1421)"
   ]
  },
  {
   "cell_type": "code",
   "execution_count": 6,
   "metadata": {},
   "outputs": [
    {
     "name": "stdout",
     "output_type": "stream",
     "text": [
      "----------------------------------------------------------------\n",
      "        Layer (type)               Output Shape         Param #\n",
      "================================================================\n",
      "            Conv3d-1    [-1, 32, 182, 218, 182]             896\n",
      "       BatchNorm3d-2    [-1, 32, 182, 218, 182]              64\n",
      "         MaxPool3d-3      [-1, 32, 91, 109, 91]               0\n",
      "              ReLU-4      [-1, 32, 91, 109, 91]               0\n",
      "            Conv3d-5      [-1, 64, 91, 109, 91]          55,360\n",
      "       BatchNorm3d-6      [-1, 64, 91, 109, 91]             128\n",
      "         MaxPool3d-7       [-1, 64, 45, 54, 45]               0\n",
      "              ReLU-8       [-1, 64, 45, 54, 45]               0\n",
      "            Conv3d-9      [-1, 128, 45, 54, 45]         221,312\n",
      "      BatchNorm3d-10      [-1, 128, 45, 54, 45]             256\n",
      "        MaxPool3d-11      [-1, 128, 22, 27, 22]               0\n",
      "             ReLU-12      [-1, 128, 22, 27, 22]               0\n",
      "           Conv3d-13      [-1, 256, 22, 27, 22]         884,992\n",
      "      BatchNorm3d-14      [-1, 256, 22, 27, 22]             512\n",
      "        MaxPool3d-15      [-1, 256, 11, 13, 11]               0\n",
      "             ReLU-16      [-1, 256, 11, 13, 11]               0\n",
      "           Conv3d-17      [-1, 256, 11, 13, 11]       1,769,728\n",
      "      BatchNorm3d-18      [-1, 256, 11, 13, 11]             512\n",
      "        MaxPool3d-19         [-1, 256, 5, 6, 5]               0\n",
      "             ReLU-20         [-1, 256, 5, 6, 5]               0\n",
      "           Conv3d-21          [-1, 64, 5, 6, 5]          16,448\n",
      "      BatchNorm3d-22          [-1, 64, 5, 6, 5]             128\n",
      "             ReLU-23          [-1, 64, 5, 6, 5]               0\n",
      "        AvgPool3d-24          [-1, 64, 1, 1, 1]               0\n",
      "           Conv3d-25        [-1, 1421, 1, 1, 1]          92,365\n",
      "================================================================\n",
      "Total params: 3,042,701\n",
      "Trainable params: 3,042,701\n",
      "Non-trainable params: 0\n",
      "----------------------------------------------------------------\n",
      "Input size (MB): 27.55\n",
      "Forward/backward pass size (MB): 5258.14\n",
      "Params size (MB): 11.61\n",
      "Estimated Total Size (MB): 5297.30\n",
      "----------------------------------------------------------------\n"
     ]
    }
   ],
   "source": [
    "summary(model, (1, 182,218,182))"
   ]
  },
  {
   "cell_type": "code",
   "execution_count": null,
   "metadata": {},
   "outputs": [],
   "source": []
  }
 ],
 "metadata": {
  "interpreter": {
   "hash": "7e0f5f480d393ac3cf1dd0e39f5d72c4b4052ec40d92a14e6ab3b9983c944e09"
  },
  "kernelspec": {
   "display_name": "Python 3.8.12 64-bit ('dl38': conda)",
   "language": "python",
   "name": "python3"
  },
  "language_info": {
   "codemirror_mode": {
    "name": "ipython",
    "version": 3
   },
   "file_extension": ".py",
   "mimetype": "text/x-python",
   "name": "python",
   "nbconvert_exporter": "python",
   "pygments_lexer": "ipython3",
   "version": "3.8.12"
  },
  "orig_nbformat": 4
 },
 "nbformat": 4,
 "nbformat_minor": 2
}
