{
 "cells": [
  {
   "cell_type": "code",
   "execution_count": 1,
   "metadata": {},
   "outputs": [
    {
     "name": "stderr",
     "output_type": "stream",
     "text": [
      "2021-12-02 12:24:56.279280: I tensorflow/stream_executor/platform/default/dso_loader.cc:49] Successfully opened dynamic library libcudart.so.10.1\n"
     ]
    }
   ],
   "source": [
    "from sfcn import SFCN\n",
    "import numpy as np "
   ]
  },
  {
   "cell_type": "code",
   "execution_count": 2,
   "metadata": {},
   "outputs": [
    {
     "name": "stdout",
     "output_type": "stream",
     "text": [
      "tf.keras will run on GPU: 4\n"
     ]
    },
    {
     "name": "stderr",
     "output_type": "stream",
     "text": [
      "2021-12-02 12:25:00.109587: I tensorflow/compiler/jit/xla_cpu_device.cc:41] Not creating XLA devices, tf_xla_enable_xla_devices not set\n",
      "2021-12-02 12:25:00.110848: I tensorflow/stream_executor/platform/default/dso_loader.cc:49] Successfully opened dynamic library libcuda.so.1\n",
      "2021-12-02 12:25:00.292126: I tensorflow/core/common_runtime/gpu/gpu_device.cc:1720] Found device 0 with properties: \n",
      "pciBusID: 0000:0c:00.0 name: NVIDIA GeForce GTX 1080 Ti computeCapability: 6.1\n",
      "coreClock: 1.582GHz coreCount: 28 deviceMemorySize: 10.92GiB deviceMemoryBandwidth: 451.17GiB/s\n",
      "2021-12-02 12:25:00.292220: I tensorflow/stream_executor/platform/default/dso_loader.cc:49] Successfully opened dynamic library libcudart.so.10.1\n",
      "2021-12-02 12:25:00.296238: I tensorflow/stream_executor/platform/default/dso_loader.cc:49] Successfully opened dynamic library libcublas.so.10\n",
      "2021-12-02 12:25:00.296332: I tensorflow/stream_executor/platform/default/dso_loader.cc:49] Successfully opened dynamic library libcublasLt.so.10\n",
      "2021-12-02 12:25:00.301108: I tensorflow/stream_executor/platform/default/dso_loader.cc:49] Successfully opened dynamic library libcufft.so.10\n",
      "2021-12-02 12:25:00.302016: I tensorflow/stream_executor/platform/default/dso_loader.cc:49] Successfully opened dynamic library libcurand.so.10\n",
      "2021-12-02 12:25:00.304958: I tensorflow/stream_executor/platform/default/dso_loader.cc:49] Successfully opened dynamic library libcusolver.so.10\n",
      "2021-12-02 12:25:00.306693: I tensorflow/stream_executor/platform/default/dso_loader.cc:49] Successfully opened dynamic library libcusparse.so.10\n",
      "2021-12-02 12:25:00.312484: I tensorflow/stream_executor/platform/default/dso_loader.cc:49] Successfully opened dynamic library libcudnn.so.7\n",
      "2021-12-02 12:25:00.323023: I tensorflow/core/common_runtime/gpu/gpu_device.cc:1862] Adding visible gpu devices: 0\n",
      "2021-12-02 12:25:00.324303: I tensorflow/core/platform/cpu_feature_guard.cc:142] This TensorFlow binary is optimized with oneAPI Deep Neural Network Library (oneDNN) to use the following CPU instructions in performance-critical operations:  SSE4.1 SSE4.2 AVX AVX2 FMA\n",
      "To enable them in other operations, rebuild TensorFlow with the appropriate compiler flags.\n",
      "2021-12-02 12:25:00.328361: I tensorflow/core/common_runtime/gpu/gpu_device.cc:1720] Found device 0 with properties: \n",
      "pciBusID: 0000:0c:00.0 name: NVIDIA GeForce GTX 1080 Ti computeCapability: 6.1\n",
      "coreClock: 1.582GHz coreCount: 28 deviceMemorySize: 10.92GiB deviceMemoryBandwidth: 451.17GiB/s\n",
      "2021-12-02 12:25:00.328405: I tensorflow/stream_executor/platform/default/dso_loader.cc:49] Successfully opened dynamic library libcudart.so.10.1\n",
      "2021-12-02 12:25:00.328437: I tensorflow/stream_executor/platform/default/dso_loader.cc:49] Successfully opened dynamic library libcublas.so.10\n",
      "2021-12-02 12:25:00.328454: I tensorflow/stream_executor/platform/default/dso_loader.cc:49] Successfully opened dynamic library libcublasLt.so.10\n",
      "2021-12-02 12:25:00.328470: I tensorflow/stream_executor/platform/default/dso_loader.cc:49] Successfully opened dynamic library libcufft.so.10\n",
      "2021-12-02 12:25:00.328487: I tensorflow/stream_executor/platform/default/dso_loader.cc:49] Successfully opened dynamic library libcurand.so.10\n",
      "2021-12-02 12:25:00.328503: I tensorflow/stream_executor/platform/default/dso_loader.cc:49] Successfully opened dynamic library libcusolver.so.10\n",
      "2021-12-02 12:25:00.328519: I tensorflow/stream_executor/platform/default/dso_loader.cc:49] Successfully opened dynamic library libcusparse.so.10\n",
      "2021-12-02 12:25:00.328536: I tensorflow/stream_executor/platform/default/dso_loader.cc:49] Successfully opened dynamic library libcudnn.so.7\n",
      "2021-12-02 12:25:00.336105: I tensorflow/core/common_runtime/gpu/gpu_device.cc:1862] Adding visible gpu devices: 0\n",
      "2021-12-02 12:25:00.336235: I tensorflow/stream_executor/platform/default/dso_loader.cc:49] Successfully opened dynamic library libcudart.so.10.1\n",
      "2021-12-02 12:25:01.372808: I tensorflow/core/common_runtime/gpu/gpu_device.cc:1261] Device interconnect StreamExecutor with strength 1 edge matrix:\n",
      "2021-12-02 12:25:01.372852: I tensorflow/core/common_runtime/gpu/gpu_device.cc:1267]      0 \n",
      "2021-12-02 12:25:01.372861: I tensorflow/core/common_runtime/gpu/gpu_device.cc:1280] 0:   N \n",
      "2021-12-02 12:25:01.386240: I tensorflow/core/common_runtime/gpu/gpu_device.cc:1406] Created TensorFlow device (/job:localhost/replica:0/task:0/device:GPU:0 with 10269 MB memory) -> physical GPU (device: 0, name: NVIDIA GeForce GTX 1080 Ti, pci bus id: 0000:0c:00.0, compute capability: 6.1)\n",
      "2021-12-02 12:25:01.386703: I tensorflow/compiler/jit/xla_gpu_device.cc:99] Not creating XLA devices, tf_xla_enable_xla_devices not set\n"
     ]
    },
    {
     "name": "stdout",
     "output_type": "stream",
     "text": [
      "Model: \"model\"\n",
      "_________________________________________________________________\n",
      "Layer (type)                 Output Shape              Param #   \n",
      "=================================================================\n",
      "input (InputLayer)           [(None, 160, 192, 160, 1) 0         \n",
      "_________________________________________________________________\n",
      "conv_0 (Conv3D)              (None, 160, 192, 160, 32) 896       \n",
      "_________________________________________________________________\n",
      "maxpool_0 (MaxPooling3D)     (None, 80, 96, 80, 32)    0         \n",
      "_________________________________________________________________\n",
      "activation_0 (Activation)    (None, 80, 96, 80, 32)    0         \n",
      "_________________________________________________________________\n",
      "conv_1 (Conv3D)              (None, 80, 96, 80, 64)    55360     \n",
      "_________________________________________________________________\n",
      "maxpool_1 (MaxPooling3D)     (None, 40, 48, 40, 64)    0         \n",
      "_________________________________________________________________\n",
      "activation_1 (Activation)    (None, 40, 48, 40, 64)    0         \n",
      "_________________________________________________________________\n",
      "conv_2 (Conv3D)              (None, 40, 48, 40, 128)   221312    \n",
      "_________________________________________________________________\n",
      "maxpool_2 (MaxPooling3D)     (None, 20, 24, 20, 128)   0         \n",
      "_________________________________________________________________\n",
      "activation_2 (Activation)    (None, 20, 24, 20, 128)   0         \n",
      "_________________________________________________________________\n",
      "conv_3 (Conv3D)              (None, 20, 24, 20, 256)   884992    \n",
      "_________________________________________________________________\n",
      "maxpool_3 (MaxPooling3D)     (None, 10, 12, 10, 256)   0         \n",
      "_________________________________________________________________\n",
      "activation_3 (Activation)    (None, 10, 12, 10, 256)   0         \n",
      "_________________________________________________________________\n",
      "conv_4 (Conv3D)              (None, 10, 12, 10, 256)   1769728   \n",
      "_________________________________________________________________\n",
      "maxpool_4 (MaxPooling3D)     (None, 5, 6, 5, 256)      0         \n",
      "_________________________________________________________________\n",
      "activation_4 (Activation)    (None, 5, 6, 5, 256)      0         \n",
      "_________________________________________________________________\n",
      "conv_5 (Conv3D)              (None, 5, 6, 5, 64)       16448     \n",
      "_________________________________________________________________\n",
      "activation_5 (Activation)    (None, 5, 6, 5, 64)       0         \n",
      "_________________________________________________________________\n",
      "avgpool_1 (AveragePooling3D) (None, 1, 1, 1, 64)       0         \n",
      "_________________________________________________________________\n",
      "conv_7 (Conv3D)              (None, 1, 1, 1, 1)        65        \n",
      "_________________________________________________________________\n",
      "flatten (Flatten)            (None, 1)                 0         \n",
      "=================================================================\n",
      "Total params: 2,948,801\n",
      "Trainable params: 2,948,801\n",
      "Non-trainable params: 0\n",
      "_________________________________________________________________\n"
     ]
    }
   ],
   "source": [
    "model = SFCN(\n",
    "    input_dim=[160, 192, 160, 1], \n",
    "    output_dim=1,\n",
    "    conv_num_filters=[32, 64, 128, 256, 256, 64], \n",
    "    conv_kernel_sizes=[3, 3, 3, 3, 3, 1], \n",
    "    conv_strides=[1, 1, 1, 1, 1, 1],\n",
    "    conv_padding=['same', 'same', 'same', 'same', 'same', 'valid'],\n",
    "    maxpool_size=[2, 2, 2, 2, 2],\n",
    "    batch_norm=False,\n",
    "    dropout=False,\n",
    "    softmax=False,\n",
    "    gpu_index=4\n",
    "    )"
   ]
  },
  {
   "cell_type": "code",
   "execution_count": 3,
   "metadata": {},
   "outputs": [],
   "source": [
    "model.compile(learning_rate=1e-6)"
   ]
  },
  {
   "cell_type": "code",
   "execution_count": 4,
   "metadata": {},
   "outputs": [],
   "source": [
    "data_size = 200"
   ]
  },
  {
   "cell_type": "code",
   "execution_count": 5,
   "metadata": {},
   "outputs": [],
   "source": [
    "X = np.random.normal(loc=5, scale=5, size=(data_size, 160, 192, 160, 1))"
   ]
  },
  {
   "cell_type": "code",
   "execution_count": 6,
   "metadata": {},
   "outputs": [],
   "source": [
    "# X = np.random.no(0, 3, size=(data_size, 160, 192, 160, 1))"
   ]
  },
  {
   "cell_type": "code",
   "execution_count": 7,
   "metadata": {},
   "outputs": [],
   "source": [
    "y = np.mean(X, axis=(1,2,3,4))"
   ]
  },
  {
   "cell_type": "code",
   "execution_count": 8,
   "metadata": {},
   "outputs": [
    {
     "name": "stderr",
     "output_type": "stream",
     "text": [
      "2021-12-02 12:25:40.656357: I tensorflow/compiler/mlir/mlir_graph_optimization_pass.cc:116] None of the MLIR optimization passes are enabled (registered 2)\n",
      "2021-12-02 12:25:40.675134: I tensorflow/core/platform/profile_utils/cpu_utils.cc:112] CPU Frequency: 2099975000 Hz\n"
     ]
    },
    {
     "name": "stdout",
     "output_type": "stream",
     "text": [
      "Epoch 1/300\n"
     ]
    },
    {
     "name": "stderr",
     "output_type": "stream",
     "text": [
      "2021-12-02 12:25:41.304888: I tensorflow/stream_executor/platform/default/dso_loader.cc:49] Successfully opened dynamic library libcudnn.so.7\n",
      "2021-12-02 12:25:42.395604: W tensorflow/stream_executor/gpu/asm_compiler.cc:63] Running ptxas --version returned 256\n",
      "2021-12-02 12:25:42.622777: W tensorflow/stream_executor/gpu/redzone_allocator.cc:314] Internal: ptxas exited with non-zero error code 256, output: \n",
      "Relying on driver to perform ptx compilation. \n",
      "Modify $PATH to customize ptxas location.\n",
      "This message will be only logged once.\n",
      "2021-12-02 12:25:43.869937: I tensorflow/stream_executor/platform/default/dso_loader.cc:49] Successfully opened dynamic library libcublas.so.10\n"
     ]
    },
    {
     "name": "stdout",
     "output_type": "stream",
     "text": [
      "60/60 [==============================] - 45s 429ms/step - loss: 14.6436 - mae: 3.7614 - val_loss: 2.4306 - val_mae: 1.5590\n",
      "Epoch 2/300\n",
      "60/60 [==============================] - 21s 354ms/step - loss: 1.2819 - mae: 1.0601 - val_loss: 0.0084 - val_mae: 0.0917\n",
      "Epoch 3/300\n",
      "60/60 [==============================] - 22s 368ms/step - loss: 0.0021 - mae: 0.0350 - val_loss: 2.7889e-05 - val_mae: 0.0044\n",
      "Epoch 4/300\n",
      "60/60 [==============================] - 22s 361ms/step - loss: 1.4148e-05 - mae: 0.0030 - val_loss: 1.8547e-05 - val_mae: 0.0034\n",
      "Epoch 5/300\n",
      "60/60 [==============================] - 21s 357ms/step - loss: 1.5235e-05 - mae: 0.0031 - val_loss: 1.7023e-05 - val_mae: 0.0033\n",
      "Epoch 6/300\n",
      "60/60 [==============================] - 22s 360ms/step - loss: 1.4180e-05 - mae: 0.0029 - val_loss: 1.6394e-05 - val_mae: 0.0032\n",
      "Epoch 7/300\n",
      "60/60 [==============================] - 21s 355ms/step - loss: 1.2674e-05 - mae: 0.0029 - val_loss: 1.8317e-05 - val_mae: 0.0034\n",
      "Epoch 8/300\n",
      "60/60 [==============================] - 21s 357ms/step - loss: 1.3922e-05 - mae: 0.0029 - val_loss: 1.6274e-05 - val_mae: 0.0032\n",
      "Epoch 9/300\n",
      "60/60 [==============================] - 21s 350ms/step - loss: 1.4519e-05 - mae: 0.0029 - val_loss: 1.6805e-05 - val_mae: 0.0033\n",
      "Epoch 10/300\n",
      "60/60 [==============================] - 21s 357ms/step - loss: 1.2707e-05 - mae: 0.0028 - val_loss: 1.6181e-05 - val_mae: 0.0032\n",
      "Epoch 11/300\n",
      "60/60 [==============================] - 21s 355ms/step - loss: 1.6148e-05 - mae: 0.0031 - val_loss: 1.7803e-05 - val_mae: 0.0033\n",
      "Epoch 12/300\n",
      "60/60 [==============================] - 22s 362ms/step - loss: 1.8337e-05 - mae: 0.0033 - val_loss: 1.6077e-05 - val_mae: 0.0032\n",
      "Epoch 13/300\n",
      "60/60 [==============================] - 21s 357ms/step - loss: 1.2114e-05 - mae: 0.0027 - val_loss: 1.7212e-05 - val_mae: 0.0033\n",
      "Epoch 14/300\n",
      "60/60 [==============================] - 21s 358ms/step - loss: 1.4379e-05 - mae: 0.0028 - val_loss: 1.7248e-05 - val_mae: 0.0033\n",
      "Epoch 15/300\n",
      "60/60 [==============================] - 21s 351ms/step - loss: 1.2962e-05 - mae: 0.0029 - val_loss: 1.8288e-05 - val_mae: 0.0034\n",
      "Epoch 16/300\n",
      "60/60 [==============================] - 21s 350ms/step - loss: 1.1650e-05 - mae: 0.0028 - val_loss: 1.6307e-05 - val_mae: 0.0032\n",
      "Epoch 17/300\n",
      "60/60 [==============================] - 22s 359ms/step - loss: 1.4861e-05 - mae: 0.0030 - val_loss: 1.7101e-05 - val_mae: 0.0033\n"
     ]
    }
   ],
   "source": [
    "model.train(X, y, 2, 300)"
   ]
  },
  {
   "cell_type": "code",
   "execution_count": 37,
   "metadata": {},
   "outputs": [],
   "source": [
    "x_test = np.random.normal(loc=8, scale=3, size=(1, 160, 192, 160, 1))"
   ]
  },
  {
   "cell_type": "code",
   "execution_count": 38,
   "metadata": {},
   "outputs": [
    {
     "data": {
      "text/plain": [
       "array([[3.45097]], dtype=float32)"
      ]
     },
     "execution_count": 38,
     "metadata": {},
     "output_type": "execute_result"
    }
   ],
   "source": [
    "model.predict(x_test)"
   ]
  },
  {
   "cell_type": "code",
   "execution_count": 11,
   "metadata": {},
   "outputs": [],
   "source": [
    "#y_test = np.mean(x_test, axis=(1,2,3,4))\n",
    "#print(y_test)"
   ]
  },
  {
   "cell_type": "code",
   "execution_count": null,
   "metadata": {},
   "outputs": [],
   "source": []
  }
 ],
 "metadata": {
  "interpreter": {
   "hash": "07a6a1ab2a95e05132d9ffaeb8e54a95a2d3cb5cb59827ad97cccdbb2506f6b0"
  },
  "kernelspec": {
   "display_name": "Python 3 (ipykernel)",
   "language": "python",
   "name": "python3"
  },
  "language_info": {
   "codemirror_mode": {
    "name": "ipython",
    "version": 3
   },
   "file_extension": ".py",
   "mimetype": "text/x-python",
   "name": "python",
   "nbconvert_exporter": "python",
   "pygments_lexer": "ipython3",
   "version": "3.8.12"
  }
 },
 "nbformat": 4,
 "nbformat_minor": 4
}
