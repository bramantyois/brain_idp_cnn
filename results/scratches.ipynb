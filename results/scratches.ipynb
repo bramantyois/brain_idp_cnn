{
 "cells": [
  {
   "cell_type": "code",
   "execution_count": 9,
   "metadata": {},
   "outputs": [],
   "source": [
    "import pandas as pd\n",
    "import seaborn as sns\n",
    "import matplotlib.pyplot as plt"
   ]
  },
  {
   "cell_type": "code",
   "execution_count": 2,
   "metadata": {},
   "outputs": [],
   "source": [
    "def get_quantile(df, q_num=4):\n",
    "    d = df.copy()\n",
    "    d['Q'] = pd.qcut(d['mean'], q_num, labels=False)\n",
    "    return d"
   ]
  },
  {
   "cell_type": "code",
   "execution_count": 3,
   "metadata": {},
   "outputs": [],
   "source": [
    "def get_grouped_desc(desc_file, multi_r2, multi_mse, name='result', write_result=False):\n",
    "    desc = pd.read_csv(desc_file, index_col='id')\n",
    "    r2 = pd.read_csv(multi_r2).iloc[[-1]].T # select the last entry\n",
    "    mse = pd.read_csv(multi_mse).iloc[[-1]].T\n",
    "\n",
    "    mse.columns =['mse']\n",
    "    mse.index.name = 'id'\n",
    "    mse.index = mse.index.astype(int)\n",
    "\n",
    "    r2.columns=['r2']\n",
    "    r2.index.name = 'id'\n",
    "    r2.index = r2.index.astype(int)\n",
    "\n",
    "    joined = r2.join(mse, on='id', how='left')\n",
    "    desc = desc.join(joined, on='id', how='left')\n",
    "\n",
    "    if write_result:\n",
    "        desc.to_csv('results/'+name+'.csv', sep=';',doublequote=False, escapechar='\\t')\n",
    "\n",
    "    volume = desc[desc['desc'].str.match('Volume')]\n",
    "    area = desc[desc['desc'].str.match('Area')]\n",
    "    grey_white = desc[desc['desc'].str.match('Grey-white')]\n",
    "    mean_thickness = desc[desc['desc'].str.match('Mean thickness')]\n",
    "    mean_intensity = desc[desc['desc'].str.match('Mean intensity')]\n",
    "\n",
    "    # print('total : {}'.format(volume.shape[0] + area.shape[0] + grey_white.shape[0] + mean_thickness.shape[0] + mean_intensity.shape[0]))\n",
    "    return {\n",
    "        'volume':volume, \n",
    "        'area':area, \n",
    "        'grey white':grey_white, \n",
    "        'mean thickness':mean_thickness,\n",
    "        'mean intensity': mean_intensity}"
   ]
  },
  {
   "cell_type": "code",
   "execution_count": 4,
   "metadata": {},
   "outputs": [],
   "source": [
    "desc_file = '../csv/idps_desc.csv'"
   ]
  },
  {
   "cell_type": "code",
   "execution_count": 5,
   "metadata": {},
   "outputs": [],
   "source": [
    "multi_r2 = 'sfcn_pyramid_avg_plat_test_multi_r2.csv'\n",
    "multi_mse = 'sfcn_pyramid_avg_plat_test_multi_mse.csv'\n",
    "sfcn_pyr_avg = get_grouped_desc(desc_file, multi_r2, multi_mse)"
   ]
  },
  {
   "cell_type": "code",
   "execution_count": 6,
   "metadata": {},
   "outputs": [],
   "source": [
    "multi_r2 = 'sfcn_pyramid_nopool_test_multi_r2.csv'\n",
    "multi_mse = 'sfcn_pyramid_nopool_test_multi_mse.csv'\n",
    "sfcn_nopool = get_grouped_desc(desc_file, multi_r2, multi_mse)"
   ]
  },
  {
   "cell_type": "code",
   "execution_count": 7,
   "metadata": {},
   "outputs": [],
   "source": [
    "def boxplot(result_list, names, q_num=4, group='volume'):\n",
    "    q = list()\n",
    "    for i in range(len(result_list)):\n",
    "        df = get_quantile(result_list[i][group], q_num=q_num)\n",
    "        df['model'] = names[i]\n",
    "        q.append(df[['r2', 'mse', 'Q', 'model']].reset_index(drop=True))\n",
    "\n",
    "    ret = q[0]\n",
    "    for i in range(1, len(q)):\n",
    "        ret = pd.concat([ret, q[i]], axis=0)\n",
    "    \n",
    "    ax, fig = plt.subplots(ncols=2, nrows=1)\n",
    "\n",
    "    sns.boxplot(data=ret, x='Q', y='r2', hue='name', ax=ax[0])       \n",
    "    return ret\n",
    "    \n",
    "\n",
    "        \n"
   ]
  },
  {
   "cell_type": "code",
   "execution_count": 8,
   "metadata": {},
   "outputs": [
    {
     "data": {
      "text/html": [
       "<div>\n",
       "<style scoped>\n",
       "    .dataframe tbody tr th:only-of-type {\n",
       "        vertical-align: middle;\n",
       "    }\n",
       "\n",
       "    .dataframe tbody tr th {\n",
       "        vertical-align: top;\n",
       "    }\n",
       "\n",
       "    .dataframe thead th {\n",
       "        text-align: right;\n",
       "    }\n",
       "</style>\n",
       "<table border=\"1\" class=\"dataframe\">\n",
       "  <thead>\n",
       "    <tr style=\"text-align: right;\">\n",
       "      <th></th>\n",
       "      <th>r2</th>\n",
       "      <th>mse</th>\n",
       "      <th>Q</th>\n",
       "      <th>name</th>\n",
       "    </tr>\n",
       "  </thead>\n",
       "  <tbody>\n",
       "    <tr>\n",
       "      <th>0</th>\n",
       "      <td>0.554831</td>\n",
       "      <td>0.037040</td>\n",
       "      <td>3</td>\n",
       "      <td>avg</td>\n",
       "    </tr>\n",
       "    <tr>\n",
       "      <th>1</th>\n",
       "      <td>0.510852</td>\n",
       "      <td>0.041353</td>\n",
       "      <td>3</td>\n",
       "      <td>avg</td>\n",
       "    </tr>\n",
       "    <tr>\n",
       "      <th>2</th>\n",
       "      <td>0.500203</td>\n",
       "      <td>0.041966</td>\n",
       "      <td>3</td>\n",
       "      <td>avg</td>\n",
       "    </tr>\n",
       "    <tr>\n",
       "      <th>3</th>\n",
       "      <td>0.513727</td>\n",
       "      <td>0.041060</td>\n",
       "      <td>3</td>\n",
       "      <td>avg</td>\n",
       "    </tr>\n",
       "    <tr>\n",
       "      <th>4</th>\n",
       "      <td>0.503291</td>\n",
       "      <td>0.042095</td>\n",
       "      <td>3</td>\n",
       "      <td>avg</td>\n",
       "    </tr>\n",
       "    <tr>\n",
       "      <th>...</th>\n",
       "      <td>...</td>\n",
       "      <td>...</td>\n",
       "      <td>...</td>\n",
       "      <td>...</td>\n",
       "    </tr>\n",
       "    <tr>\n",
       "      <th>627</th>\n",
       "      <td>0.052315</td>\n",
       "      <td>0.079120</td>\n",
       "      <td>0</td>\n",
       "      <td>no pool</td>\n",
       "    </tr>\n",
       "    <tr>\n",
       "      <th>628</th>\n",
       "      <td>0.039095</td>\n",
       "      <td>0.078317</td>\n",
       "      <td>0</td>\n",
       "      <td>no pool</td>\n",
       "    </tr>\n",
       "    <tr>\n",
       "      <th>629</th>\n",
       "      <td>0.056115</td>\n",
       "      <td>0.080127</td>\n",
       "      <td>0</td>\n",
       "      <td>no pool</td>\n",
       "    </tr>\n",
       "    <tr>\n",
       "      <th>630</th>\n",
       "      <td>0.035050</td>\n",
       "      <td>0.080948</td>\n",
       "      <td>0</td>\n",
       "      <td>no pool</td>\n",
       "    </tr>\n",
       "    <tr>\n",
       "      <th>631</th>\n",
       "      <td>0.014508</td>\n",
       "      <td>0.086709</td>\n",
       "      <td>0</td>\n",
       "      <td>no pool</td>\n",
       "    </tr>\n",
       "  </tbody>\n",
       "</table>\n",
       "<p>1264 rows × 4 columns</p>\n",
       "</div>"
      ],
      "text/plain": [
       "           r2       mse  Q     name\n",
       "0    0.554831  0.037040  3      avg\n",
       "1    0.510852  0.041353  3      avg\n",
       "2    0.500203  0.041966  3      avg\n",
       "3    0.513727  0.041060  3      avg\n",
       "4    0.503291  0.042095  3      avg\n",
       "..        ...       ... ..      ...\n",
       "627  0.052315  0.079120  0  no pool\n",
       "628  0.039095  0.078317  0  no pool\n",
       "629  0.056115  0.080127  0  no pool\n",
       "630  0.035050  0.080948  0  no pool\n",
       "631  0.014508  0.086709  0  no pool\n",
       "\n",
       "[1264 rows x 4 columns]"
      ]
     },
     "execution_count": 8,
     "metadata": {},
     "output_type": "execute_result"
    },
    {
     "data": {
      "image/png": "[encoded data removed]",
      "text/plain": [
       "<Figure size 432x288 with 1 Axes>"
      ]
     },
     "metadata": {
      "needs_background": "light"
     },
     "output_type": "display_data"
    }
   ],
   "source": [
    "a = boxplot([sfcn_pyr_avg, sfcn_nopool], ['avg', 'no pool'])\n",
    "pd.DataFrame(a)"
   ]
  },
  {
   "cell_type": "code",
   "execution_count": 51,
   "metadata": {},
   "outputs": [
    {
     "data": {
      "text/plain": [
       "<AxesSubplot:>"
      ]
     },
     "execution_count": 51,
     "metadata": {},
     "output_type": "execute_result"
    },
    {
     "data": {
      "image/png": "[encoded data removed]",
      "text/plain": [
       "<Figure size 432x288 with 1 Axes>"
      ]
     },
     "metadata": {
      "needs_background": "light"
     },
     "output_type": "display_data"
    }
   ],
   "source": [
    "\n",
    "vol_q[vol_q['Q'] == 0].boxplot(column=['r2'])"
   ]
  },
  {
   "cell_type": "code",
   "execution_count": null,
   "metadata": {},
   "outputs": [],
   "source": []
  }
 ],
 "metadata": {
  "interpreter": {
   "hash": "7e0f5f480d393ac3cf1dd0e39f5d72c4b4052ec40d92a14e6ab3b9983c944e09"
  },
  "kernelspec": {
   "display_name": "Python 3.8.12 64-bit ('dl38': conda)",
   "language": "python",
   "name": "python3"
  },
  "language_info": {
   "codemirror_mode": {
    "name": "ipython",
    "version": 3
   },
   "file_extension": ".py",
   "mimetype": "text/x-python",
   "name": "python",
   "nbconvert_exporter": "python",
   "pygments_lexer": "ipython3",
   "version": "3.8.12"
  },
  "orig_nbformat": 4
 },
 "nbformat": 4,
 "nbformat_minor": 2
}
