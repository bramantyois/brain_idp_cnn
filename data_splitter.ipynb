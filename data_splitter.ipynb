{
 "cells": [
  {
   "cell_type": "code",
   "execution_count": 1,
   "id": "a7c84d29-7eef-445c-8af1-0d83c8a54aba",
   "metadata": {},
   "outputs": [],
   "source": [
    "from scanbids import train_test_validation_split, scanfolder"
   ]
  },
  {
   "cell_type": "code",
   "execution_count": 2,
   "id": "c52c21be-308e-4e8b-ac30-afeb99f9a588",
   "metadata": {},
   "outputs": [
    {
     "ename": "AttributeError",
     "evalue": "'str' object has no attribute 'copy'",
     "output_type": "error",
     "traceback": [
      "\u001b[0;31m---------------------------------------------------------------------------\u001b[0m",
      "\u001b[0;31mAttributeError\u001b[0m                            Traceback (most recent call last)",
      "\u001b[0;32m/tmp/ipykernel_1867718/3216571418.py\u001b[0m in \u001b[0;36m<module>\u001b[0;34m\u001b[0m\n\u001b[1;32m      2\u001b[0m \u001b[0;34m\u001b[0m\u001b[0m\n\u001b[1;32m      3\u001b[0m \u001b[0mdf\u001b[0m \u001b[0;34m=\u001b[0m \u001b[0mscanfolder\u001b[0m\u001b[0;34m(\u001b[0m\u001b[0mpath\u001b[0m\u001b[0;34m,\u001b[0m \u001b[0;34m'anat'\u001b[0m\u001b[0;34m,\u001b[0m \u001b[0;34m'T1_brain_to_MNI'\u001b[0m\u001b[0;34m,\u001b[0m \u001b[0;34m'nii.gz'\u001b[0m\u001b[0;34m)\u001b[0m\u001b[0;34m\u001b[0m\u001b[0;34m\u001b[0m\u001b[0m\n\u001b[0;32m----> 4\u001b[0;31m \u001b[0mtrain_test_validation_split\u001b[0m\u001b[0;34m(\u001b[0m\u001b[0mpath\u001b[0m\u001b[0;34m)\u001b[0m\u001b[0;34m\u001b[0m\u001b[0;34m\u001b[0m\u001b[0m\n\u001b[0m",
      "\u001b[0;32m~/codes/brain_idp_cnn/scanbids.py\u001b[0m in \u001b[0;36mtrain_test_validation_split\u001b[0;34m(data_frame, train_frac, csv_write_dir, csv_prefix)\u001b[0m\n\u001b[1;32m     58\u001b[0m         \u001b[0;34m[\u001b[0m\u001b[0mdescription\u001b[0m\u001b[0;34m]\u001b[0m\u001b[0;34m,\u001b[0m \u001b[0mby\u001b[0m \u001b[0mdefault\u001b[0m \u001b[0;34m'split'\u001b[0m\u001b[0;34m\u001b[0m\u001b[0;34m\u001b[0m\u001b[0m\n\u001b[1;32m     59\u001b[0m     \"\"\"\n\u001b[0;32m---> 60\u001b[0;31m     \u001b[0mdf\u001b[0m \u001b[0;34m=\u001b[0m \u001b[0mdata_frame\u001b[0m\u001b[0;34m.\u001b[0m\u001b[0mcopy\u001b[0m\u001b[0;34m(\u001b[0m\u001b[0;34m)\u001b[0m\u001b[0;34m\u001b[0m\u001b[0;34m\u001b[0m\u001b[0m\n\u001b[0m\u001b[1;32m     61\u001b[0m     \u001b[0msub_grouped\u001b[0m \u001b[0;34m=\u001b[0m \u001b[0mdf\u001b[0m\u001b[0;34m.\u001b[0m\u001b[0mgroupby\u001b[0m\u001b[0;34m(\u001b[0m\u001b[0;34m'subject'\u001b[0m\u001b[0;34m)\u001b[0m\u001b[0;34m.\u001b[0m\u001b[0mnunique\u001b[0m\u001b[0;34m(\u001b[0m\u001b[0;34m)\u001b[0m\u001b[0;34m\u001b[0m\u001b[0;34m\u001b[0m\u001b[0m\n\u001b[1;32m     62\u001b[0m     \u001b[0mval_test_df\u001b[0m \u001b[0;34m=\u001b[0m \u001b[0msub_grouped\u001b[0m\u001b[0;34m[\u001b[0m\u001b[0msub_grouped\u001b[0m\u001b[0;34m[\u001b[0m\u001b[0;34m'path'\u001b[0m\u001b[0;34m]\u001b[0m\u001b[0;34m==\u001b[0m\u001b[0;36m1\u001b[0m\u001b[0;34m]\u001b[0m\u001b[0;34m\u001b[0m\u001b[0;34m\u001b[0m\u001b[0m\n",
      "\u001b[0;31mAttributeError\u001b[0m: 'str' object has no attribute 'copy'"
     ]
    }
   ],
   "source": [
    "path = '/ritter/share/data/UKBB_2020'\n",
    "\n",
    "df = scanfolder(path, 'anat', 'T1_brain_to_MNI', 'nii.gz')\n"
   ]
  },
  {
   "cell_type": "code",
   "execution_count": 3,
   "id": "f91c1ad2-3e16-43f0-aa76-ce865a3a29ac",
   "metadata": {},
   "outputs": [
    {
     "data": {
      "text/plain": [
       "(           subject session                                               path\n",
       " 2      sub-1263680   ses-2  /ritter/share/data/UKBB_2020/BIDS/sub-1263680/...\n",
       " 3      sub-1341495   ses-2  /ritter/share/data/UKBB_2020/BIDS/sub-1341495/...\n",
       " 5      sub-1159099   ses-2  /ritter/share/data/UKBB_2020/BIDS/sub-1159099/...\n",
       " 7      sub-1330110   ses-2  /ritter/share/data/UKBB_2020/BIDS/sub-1330110/...\n",
       " 8      sub-1095136   ses-3  /ritter/share/data/UKBB_2020/BIDS/sub-1095136/...\n",
       " ...            ...     ...                                                ...\n",
       " 41149  sub-1203822   ses-2  /ritter/share/data/UKBB_2020/BIDS/sub-1203822/...\n",
       " 41150  sub-1339716   ses-2  /ritter/share/data/UKBB_2020/BIDS/sub-1339716/...\n",
       " 41151  sub-1342020   ses-2  /ritter/share/data/UKBB_2020/BIDS/sub-1342020/...\n",
       " 41153  sub-1146765   ses-2  /ritter/share/data/UKBB_2020/BIDS/sub-1146765/...\n",
       " 41154  sub-1146765   ses-3  /ritter/share/data/UKBB_2020/BIDS/sub-1146765/...\n",
       " \n",
       " [24693 rows x 3 columns],\n",
       "            subject session                                               path\n",
       " 0      sub-1138074   ses-2  /ritter/share/data/UKBB_2020/BIDS/sub-1138074/...\n",
       " 4      sub-1141076   ses-2  /ritter/share/data/UKBB_2020/BIDS/sub-1141076/...\n",
       " 28     sub-1151933   ses-2  /ritter/share/data/UKBB_2020/BIDS/sub-1151933/...\n",
       " 30     sub-1093447   ses-2  /ritter/share/data/UKBB_2020/BIDS/sub-1093447/...\n",
       " 33     sub-1370208   ses-2  /ritter/share/data/UKBB_2020/BIDS/sub-1370208/...\n",
       " ...            ...     ...                                                ...\n",
       " 41126  sub-1146686   ses-2  /ritter/share/data/UKBB_2020/BIDS/sub-1146686/...\n",
       " 41131  sub-1243760   ses-2  /ritter/share/data/UKBB_2020/BIDS/sub-1243760/...\n",
       " 41136  sub-1363236   ses-2  /ritter/share/data/UKBB_2020/BIDS/sub-1363236/...\n",
       " 41137  sub-1165247   ses-2  /ritter/share/data/UKBB_2020/BIDS/sub-1165247/...\n",
       " 41143  sub-1169466   ses-2  /ritter/share/data/UKBB_2020/BIDS/sub-1169466/...\n",
       " \n",
       " [8231 rows x 3 columns],\n",
       "            subject session                                               path\n",
       " 2      sub-1263680   ses-2  /ritter/share/data/UKBB_2020/BIDS/sub-1263680/...\n",
       " 3      sub-1341495   ses-2  /ritter/share/data/UKBB_2020/BIDS/sub-1341495/...\n",
       " 5      sub-1159099   ses-2  /ritter/share/data/UKBB_2020/BIDS/sub-1159099/...\n",
       " 7      sub-1330110   ses-2  /ritter/share/data/UKBB_2020/BIDS/sub-1330110/...\n",
       " 8      sub-1095136   ses-3  /ritter/share/data/UKBB_2020/BIDS/sub-1095136/...\n",
       " ...            ...     ...                                                ...\n",
       " 41149  sub-1203822   ses-2  /ritter/share/data/UKBB_2020/BIDS/sub-1203822/...\n",
       " 41150  sub-1339716   ses-2  /ritter/share/data/UKBB_2020/BIDS/sub-1339716/...\n",
       " 41151  sub-1342020   ses-2  /ritter/share/data/UKBB_2020/BIDS/sub-1342020/...\n",
       " 41153  sub-1146765   ses-2  /ritter/share/data/UKBB_2020/BIDS/sub-1146765/...\n",
       " 41154  sub-1146765   ses-3  /ritter/share/data/UKBB_2020/BIDS/sub-1146765/...\n",
       " \n",
       " [24693 rows x 3 columns])"
      ]
     },
     "execution_count": 3,
     "metadata": {},
     "output_type": "execute_result"
    }
   ],
   "source": [
    "train_test_validation_split(df)"
   ]
  },
  {
   "cell_type": "code",
   "execution_count": null,
   "id": "ef5d3814-51ed-488f-b948-cff3c25a6537",
   "metadata": {},
   "outputs": [],
   "source": []
  }
 ],
 "metadata": {
  "kernelspec": {
   "display_name": "Python 3 (ipykernel)",
   "language": "python",
   "name": "python3"
  },
  "language_info": {
   "codemirror_mode": {
    "name": "ipython",
    "version": 3
   },
   "file_extension": ".py",
   "mimetype": "text/x-python",
   "name": "python",
   "nbconvert_exporter": "python",
   "pygments_lexer": "ipython3",
   "version": "3.8.12"
  }
 },
 "nbformat": 4,
 "nbformat_minor": 5
}
