{
 "cells": [
  {
   "cell_type": "code",
   "execution_count": 38,
   "metadata": {},
   "outputs": [],
   "source": [
    "import tensorflow as tf\n",
    "from tensorflow.keras.layers import Conv3D\n",
    "from tensorflow.keras.models import Model\n",
    "import os\n",
    "import numpy as np\n",
    "from custommodel import  CustomTrainStep"
   ]
  },
  {
   "cell_type": "code",
   "execution_count": 39,
   "metadata": {},
   "outputs": [],
   "source": [
    "os.environ[\"CUDA_VISIBLE_DEVICES\"] = '7'"
   ]
  },
  {
   "cell_type": "code",
   "execution_count": 40,
   "metadata": {},
   "outputs": [
    {
     "data": {
      "text/plain": [
       "<tf.Tensor: shape=(2,), dtype=float32, numpy=array([1., 2.], dtype=float32)>"
      ]
     },
     "execution_count": 40,
     "metadata": {},
     "output_type": "execute_result"
    }
   ],
   "source": [
    "x = tf.constant([[1., 1.], [2., 2.]])\n",
    "tf.reduce_mean(x)\n",
    "\n",
    "tf.reduce_mean(x, 0)\n",
    "\n",
    "tf.reduce_mean(x, 1)\n",
    "\n"
   ]
  },
  {
   "cell_type": "code",
   "execution_count": 26,
   "metadata": {},
   "outputs": [],
   "source": [
    "x = np.random.normal(3,5,(2,160,200,160,1))"
   ]
  },
  {
   "cell_type": "code",
   "execution_count": 27,
   "metadata": {},
   "outputs": [],
   "source": [
    "x = tf.convert_to_tensor(x)"
   ]
  },
  {
   "cell_type": "code",
   "execution_count": 28,
   "metadata": {},
   "outputs": [],
   "source": [
    "mean = tf.reduce_mean(x)"
   ]
  },
  {
   "cell_type": "code",
   "execution_count": 29,
   "metadata": {},
   "outputs": [],
   "source": [
    "whitened = x-mean"
   ]
  },
  {
   "cell_type": "code",
   "execution_count": 30,
   "metadata": {},
   "outputs": [],
   "source": [
    "std = tf.math.reduce_std(x)"
   ]
  },
  {
   "cell_type": "code",
   "execution_count": 33,
   "metadata": {},
   "outputs": [
    {
     "data": {
      "text/plain": [
       "<tf.Tensor: shape=(), dtype=float64, numpy=1.0>"
      ]
     },
     "execution_count": 33,
     "metadata": {},
     "output_type": "execute_result"
    }
   ],
   "source": [
    "tf.math.reduce_std(whitened/std)"
   ]
  },
  {
   "cell_type": "code",
   "execution_count": 36,
   "metadata": {},
   "outputs": [
    {
     "data": {
      "text/plain": [
       "<tf.Tensor: shape=(160, 1), dtype=float64, numpy=\n",
       "array([[2.99743772],\n",
       "       [3.01782469],\n",
       "       [3.03209182],\n",
       "       [2.9940234 ],\n",
       "       [3.03118841],\n",
       "       [3.00406357],\n",
       "       [3.00180115],\n",
       "       [3.00546174],\n",
       "       [3.01877807],\n",
       "       [2.97278716],\n",
       "       [2.97526249],\n",
       "       [2.98718744],\n",
       "       [2.99829566],\n",
       "       [2.98215378],\n",
       "       [2.97451578],\n",
       "       [3.0394268 ],\n",
       "       [3.00134783],\n",
       "       [2.99521112],\n",
       "       [3.00014652],\n",
       "       [3.03621096],\n",
       "       [3.02079312],\n",
       "       [3.02682408],\n",
       "       [3.01119087],\n",
       "       [3.04574489],\n",
       "       [2.99311881],\n",
       "       [3.00518085],\n",
       "       [2.9810815 ],\n",
       "       [2.99801098],\n",
       "       [2.99641796],\n",
       "       [2.96507973],\n",
       "       [2.99233363],\n",
       "       [3.06209557],\n",
       "       [2.98923748],\n",
       "       [2.96607836],\n",
       "       [3.01217569],\n",
       "       [2.98107988],\n",
       "       [3.03204064],\n",
       "       [3.01546145],\n",
       "       [3.00636718],\n",
       "       [2.9747157 ],\n",
       "       [3.00548151],\n",
       "       [2.96290296],\n",
       "       [3.00153518],\n",
       "       [2.99049369],\n",
       "       [3.00117373],\n",
       "       [2.99571434],\n",
       "       [3.0106708 ],\n",
       "       [3.02259675],\n",
       "       [3.01227119],\n",
       "       [2.97126031],\n",
       "       [3.00470089],\n",
       "       [3.00184093],\n",
       "       [3.00427243],\n",
       "       [3.01015232],\n",
       "       [3.00963453],\n",
       "       [3.00879981],\n",
       "       [3.03583031],\n",
       "       [3.00868312],\n",
       "       [2.97979656],\n",
       "       [3.02648389],\n",
       "       [3.00110019],\n",
       "       [2.96856604],\n",
       "       [3.03510395],\n",
       "       [3.01508501],\n",
       "       [3.01452778],\n",
       "       [2.9909682 ],\n",
       "       [2.99655207],\n",
       "       [2.99333373],\n",
       "       [2.9810268 ],\n",
       "       [2.99268924],\n",
       "       [3.02197337],\n",
       "       [3.02867334],\n",
       "       [3.025122  ],\n",
       "       [2.99740509],\n",
       "       [3.00391234],\n",
       "       [2.97179322],\n",
       "       [3.0090962 ],\n",
       "       [2.97849799],\n",
       "       [2.985639  ],\n",
       "       [3.01670166],\n",
       "       [2.97599347],\n",
       "       [3.01733948],\n",
       "       [2.99889856],\n",
       "       [2.99488805],\n",
       "       [2.98556013],\n",
       "       [2.98180667],\n",
       "       [2.98784382],\n",
       "       [3.01364632],\n",
       "       [2.99669675],\n",
       "       [3.01641155],\n",
       "       [2.99901078],\n",
       "       [3.02886719],\n",
       "       [2.99844913],\n",
       "       [2.99107154],\n",
       "       [3.0117713 ],\n",
       "       [2.97175001],\n",
       "       [2.97848378],\n",
       "       [3.01343986],\n",
       "       [2.98353817],\n",
       "       [2.99705553],\n",
       "       [3.00666894],\n",
       "       [2.9886861 ],\n",
       "       [3.00082109],\n",
       "       [2.99527863],\n",
       "       [3.0020808 ],\n",
       "       [3.00446859],\n",
       "       [2.96534183],\n",
       "       [3.00088294],\n",
       "       [2.98562175],\n",
       "       [2.99711244],\n",
       "       [3.00930585],\n",
       "       [2.97936343],\n",
       "       [3.01789724],\n",
       "       [2.96955473],\n",
       "       [3.00750958],\n",
       "       [3.00896504],\n",
       "       [2.97150739],\n",
       "       [3.02735023],\n",
       "       [3.00662801],\n",
       "       [3.01130984],\n",
       "       [3.00715448],\n",
       "       [3.02431623],\n",
       "       [2.96890436],\n",
       "       [3.00888537],\n",
       "       [2.9930202 ],\n",
       "       [3.00616603],\n",
       "       [3.00560006],\n",
       "       [3.00761055],\n",
       "       [2.9900645 ],\n",
       "       [3.03374207],\n",
       "       [3.02279704],\n",
       "       [2.97366451],\n",
       "       [2.97814114],\n",
       "       [3.01103458],\n",
       "       [3.02646193],\n",
       "       [3.00141631],\n",
       "       [2.97253327],\n",
       "       [3.00860589],\n",
       "       [2.96443878],\n",
       "       [2.98503403],\n",
       "       [2.97157977],\n",
       "       [2.9989133 ],\n",
       "       [2.9932631 ],\n",
       "       [3.01588974],\n",
       "       [2.99853787],\n",
       "       [3.02298448],\n",
       "       [3.01831197],\n",
       "       [2.98032812],\n",
       "       [2.99103732],\n",
       "       [2.97327252],\n",
       "       [3.02056895],\n",
       "       [2.99765062],\n",
       "       [2.98108802],\n",
       "       [2.99737394],\n",
       "       [3.00676739],\n",
       "       [2.99272836],\n",
       "       [2.98374706],\n",
       "       [3.02680989],\n",
       "       [2.9762496 ],\n",
       "       [3.01233609]])>"
      ]
     },
     "execution_count": 36,
     "metadata": {},
     "output_type": "execute_result"
    }
   ],
   "source": [
    "tf.reduce_mean(x, axis=(0,1,2))"
   ]
  },
  {
   "cell_type": "code",
   "execution_count": 73,
   "metadata": {},
   "outputs": [],
   "source": [
    "input_shape = (2, 80, 95, 80, 4)\n",
    "x = tf.random.normal(input_shape)\n",
    "model = Conv3D(4, 3, activation='relu', input_shape=input_shape[1:])\n",
    "y = model(x)\n",
    "kern = model.kernel"
   ]
  },
  {
   "cell_type": "code",
   "execution_count": 74,
   "metadata": {},
   "outputs": [],
   "source": [
    "eps = 1e-6"
   ]
  },
  {
   "cell_type": "markdown",
   "metadata": {},
   "source": []
  },
  {
   "cell_type": "code",
   "execution_count": 75,
   "metadata": {},
   "outputs": [],
   "source": [
    "mean = tf.reduce_mean(kern, axis=(0,1,2,3), keepdims=True)\n",
    "std = tf.math.reduce_std(kern, axis=(0,1,2,3), keepdims=True)\n",
    "std = tf.math.maximum(std, eps)"
   ]
  },
  {
   "cell_type": "code",
   "execution_count": 76,
   "metadata": {},
   "outputs": [],
   "source": [
    "res = (kern-mean)/(std)"
   ]
  },
  {
   "cell_type": "code",
   "execution_count": 77,
   "metadata": {},
   "outputs": [
    {
     "data": {
      "text/plain": [
       "<tf.Tensor: shape=(), dtype=float32, numpy=-2.2075795e-09>"
      ]
     },
     "execution_count": 77,
     "metadata": {},
     "output_type": "execute_result"
    }
   ],
   "source": [
    "tf.reduce_mean(res)"
   ]
  },
  {
   "cell_type": "code",
   "execution_count": 78,
   "metadata": {},
   "outputs": [
    {
     "data": {
      "text/plain": [
       "<tf.Tensor: shape=(), dtype=float32, numpy=0.99999994>"
      ]
     },
     "execution_count": 78,
     "metadata": {},
     "output_type": "execute_result"
    }
   ],
   "source": [
    "tf.math.reduce_std(res)"
   ]
  },
  {
   "cell_type": "code",
   "execution_count": null,
   "metadata": {},
   "outputs": [],
   "source": []
  }
 ],
 "metadata": {
  "interpreter": {
   "hash": "7e0f5f480d393ac3cf1dd0e39f5d72c4b4052ec40d92a14e6ab3b9983c944e09"
  },
  "kernelspec": {
   "display_name": "Python 3.8.12 64-bit ('dl38': conda)",
   "language": "python",
   "name": "python3"
  },
  "language_info": {
   "codemirror_mode": {
    "name": "ipython",
    "version": 3
   },
   "file_extension": ".py",
   "mimetype": "text/x-python",
   "name": "python",
   "nbconvert_exporter": "python",
   "pygments_lexer": "ipython3",
   "version": "3.8.12"
  },
  "orig_nbformat": 4
 },
 "nbformat": 4,
 "nbformat_minor": 2
}
